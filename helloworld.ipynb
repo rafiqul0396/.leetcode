{
  "nbformat": 4,
  "nbformat_minor": 0,
  "metadata": {
    "colab": {
      "private_outputs": true,
      "provenance": [],
      "authorship_tag": "ABX9TyMUT/a0M9ERc/ivt6r2lR6M",
      "include_colab_link": true
    },
    "kernelspec": {
      "name": "python3",
      "display_name": "Python 3"
    },
    "language_info": {
      "name": "python"
    }
  },
  "cells": [
    {
      "cell_type": "markdown",
      "metadata": {
        "id": "view-in-github",
        "colab_type": "text"
      },
      "source": [
        "<a href=\"https://colab.research.google.com/github/rafiqul0396/.leetcode/blob/stck-1/helloworld.ipynb\" target=\"_parent\"><img src=\"https://colab.research.google.com/assets/colab-badge.svg\" alt=\"Open In Colab\"/></a>"
      ]
    },
    {
      "cell_type": "code",
      "execution_count": null,
      "metadata": {
        "id": "HAoXSSD0Mugz"
      },
      "outputs": [],
      "source": [
        "def HelloWorld():\n",
        "    return \"Hello World\""
      ]
    },
    {
      "cell_type": "code",
      "source": [
        "assert \"Hello World\"==HelloWorld()"
      ],
      "metadata": {
        "id": "DqK73SffM1a4"
      },
      "execution_count": null,
      "outputs": []
    },
    {
      "cell_type": "code",
      "source": [],
      "metadata": {
        "id": "ED7qInu0M8qo"
      },
      "execution_count": null,
      "outputs": []
    }
  ]
}